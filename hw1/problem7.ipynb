{
  "nbformat": 4,
  "nbformat_minor": 0,
  "metadata": {
    "colab": {
      "name": "Problem 7",
      "version": "0.3.2",
      "provenance": [],
      "collapsed_sections": []
    },
    "kernelspec": {
      "name": "python3",
      "display_name": "Python 3"
    }
  },
  "cells": [
    {
      "metadata": {
        "id": "MeVPwRSFAyqC",
        "colab_type": "code",
        "colab": {
          "base_uri": "https://localhost:8080/",
          "height": 414
        },
        "outputId": "901a89cc-ded0-4edc-b994-def1ee04bfb8"
      },
      "cell_type": "code",
      "source": [
        "# Libraries\n",
        "import numpy as np\n",
        "import matplotlib.pyplot as plt\n",
        "\n",
        "# Init as objects\n",
        "#X_array = []\n",
        "#F_array = []\n",
        "\n",
        "# Initialized values for c and x0\n",
        "c = 4.0\n",
        "start = 0.5\n",
        "\n",
        "# Initialize X and F as lists\n",
        "X = []\n",
        "F = []\n",
        "\n",
        "# Populate X\n",
        "for k in range (20): \n",
        "  if (k == 0):\n",
        "    X.append( c * start * (1-start))\n",
        "  else:\n",
        "    X.append(c*X[k-1] * (1-X[k-1]))\n",
        "\n",
        "# Populate F\n",
        "for k in range (20): \n",
        "    F.append(c*X[k]*(1-X[k]))\n",
        "    \n",
        "print(len(X))\n",
        "print(X)\n",
        "\n",
        "print(len(F))\n",
        "print(F)\n",
        "\n",
        "t = [i for i in range(0, 20)]\n",
        "# Emeis theloume na kanoume to plot gia (t, F)\n",
        "#plt.axis([0, 1, 0, 1])  \n",
        "plt.plot(t, F, 'b-')\n",
        "\n",
        "plt.show()\n",
        "\n",
        "# Ok, phrame to 1 diagramma\n",
        "#Twra, opws leei h ekfwnhsh, prepei na epanalavoume to peirama gia x_0 = 0.51\n",
        "# kai meta gia x_0=0.5 kai x_0=0.51 kai c=3.9 kai c=4\n",
        "# kai na sxoliasoume ta diagrammata. Einai xaotika? Einai periodika?\n",
        "# Oloklhrh h askhsh tou klainti kai tou bones mporei na vrethei edw\n",
        "# https://notebooks.azure.com/klainti/libraries/NN18\n",
        "\n",
        "# Epishs, to Colaboratory exei kapoia blocks, ta code blocks opou grafeis kwdika\n",
        "# kai ta markdown blocks. Kalo einai na valoume to sxoliasmo mas se markdown blocks\n",
        "# wste meta apla na tou steiloume to arxeio se auti ti morfi (.ipynb)\n",
        "# kai na exei kwdika kai sxoliasmo se ena kathara kai omorfa\n",
        "# Auti ti stigmi oooooooola auta pou grafw einai se ena terastio code block.\n",
        "# Ta sxolia tou kwdika pou ksekinane me hashtag (#) einai diaforetika apo ta markdown blocks pou eksigw parapanw!\n",
        "\n",
        "\n",
        "#### Klainti's solution for 1 plot ####\n",
        "#### #### #####\n",
        "### Check range for i? Why do they have 21 and we have 20?\n",
        "# def comp_system(x0, n, c):\n",
        "#     x = []\n",
        "#     times = []\n",
        "    \n",
        "#     for i in range(0, n+1):\n",
        "#         times.append(i)\n",
        "#         x.append(x0)\n",
        "        \n",
        "#         x0 = c*x0*(1-x0)\n",
        "    \n",
        "#     return x\n",
        "\n",
        "\n",
        "# # parameters\n",
        "# x0_1= 0.5\n",
        "# x0_2= 0.51\n",
        "# n= 20\n",
        "# t = [i for i in range(0, n+1)]\n",
        "# c=3.5\n",
        "\n",
        "\n",
        "# y0= comp_system(x0_1,n,c)\n",
        "\n",
        "# print(t)\n",
        "# print(y0)\n",
        "# plt.subplot(2,2,1)\n",
        "# plt.title('x0={} and c={}'.format(x0_1,c))\n",
        "# plt.plot(t,y0)\n"
      ],
      "execution_count": 2,
      "outputs": [
        {
          "output_type": "stream",
          "text": [
            "20\n",
            "[1.0, 0.0, 0.0, 0.0, 0.0, 0.0, 0.0, 0.0, 0.0, 0.0, 0.0, 0.0, 0.0, 0.0, 0.0, 0.0, 0.0, 0.0, 0.0, 0.0]\n",
            "20\n",
            "[0.0, 0.0, 0.0, 0.0, 0.0, 0.0, 0.0, 0.0, 0.0, 0.0, 0.0, 0.0, 0.0, 0.0, 0.0, 0.0, 0.0, 0.0, 0.0, 0.0]\n"
          ],
          "name": "stdout"
        },
        {
          "output_type": "display_data",
          "data": {
            "image/png": "[encoded data removed]",
            "text/plain": [
              "<matplotlib.figure.Figure at 0x7f9b97b7e470>"
            ]
          },
          "metadata": {
            "tags": []
          }
        }
      ]
    },
    {
      "metadata": {
        "id": "o-MygEbVJbTX",
        "colab_type": "code",
        "colab": {}
      },
      "cell_type": "code",
      "source": [
        ""
      ],
      "execution_count": 0,
      "outputs": []
    }
  ]
}