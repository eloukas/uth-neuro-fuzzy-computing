{
  "nbformat": 4,
  "nbformat_minor": 0,
  "metadata": {
    "colab": {
      "name": "problem3 - Simple Perceptron in NumPy & TensorFlow.ipynb",
      "version": "0.3.2",
      "provenance": []
    },
    "kernelspec": {
      "name": "python3",
      "display_name": "Python 3"
    }
  },
  "cells": [
    {
      "metadata": {
        "id": "gfcgBgPESWeh",
        "colab_type": "text"
      },
      "cell_type": "markdown",
      "source": [
        "## Following, we have a simple Perceptron implementation in Python using NumPy, answering the first bullet of problem 3\n",
        "\n",
        "\n",
        "\n",
        "\n"
      ]
    },
    {
      "metadata": {
        "id": "Mm9PzbDRjZ6W",
        "colab_type": "code",
        "colab": {
          "base_uri": "https://localhost:8080/",
          "height": 170
        },
        "outputId": "490fd6dd-b38a-4935-9152-7f04be24134b"
      },
      "cell_type": "code",
      "source": [
        "import numpy\n",
        "from random import choice \n",
        "\n",
        "activate = lambda x: 0 if x < 0 else 1 # This will activate a neuron if its value is higher than 0\n",
        "training_data = [ (np.array([1,4,1]), 0), (np.array([1,5,1]), 0), (np.array([2,4,1]), 0), (np.array([2,5,1]), 0), (np.array([3,1,1]), 1), (np.array([3,2,1]), 1), (np.array([4,1,1]), 1), (np.array([4,2,1]), 1)] \n",
        "# The first two entries of the NumPy array are the two input values.\n",
        "# The third entry of the array is the bias which is needed to move the threshold (also known as the decision boundary) up or down as needed by the activation function. \n",
        "# The second element of the tuple is the expected result or the target value.\n",
        "\n",
        "w = np.random.rand(3) # Initialize the weights randomly\n",
        "learning_rate = 0.01 \n",
        "epochs = 100 # Arbitrary number, feel free to change\n",
        "for i in range(epochs):\n",
        "  x, expected = choice(training_data) # Get a random input set from the training data\n",
        "  result = np.dot(w, x)\n",
        "  error = expected - activate(result) # Can be -1, 0, 1\n",
        "  \n",
        "  w += learning_rate * error * x # Fix the weights through the unified perceptron learning rule\n",
        " \n",
        "print(\"Final Weights: \",  w)\n",
        "  \n",
        "i = 0\n",
        "for x, _ in training_data:\n",
        "  i = i + 1\n",
        "  result = np.dot(x, w)\n",
        "  print(\"p_%d\"%(i),\"--- \" \"{} --- Value before activation: {} -> Value after activation: {}\".format(x[:2], result, activate(result)))\n",
        "  \n"
      ],
      "execution_count": 12,
      "outputs": [
        {
          "output_type": "stream",
          "text": [
            "Final Weights:  [ 0.46909324 -0.35682067  0.32024546]\n",
            "p_1 --- [1 4] --- Value before activation: -0.6379439895491833 -> Value after activation: 0\n",
            "p_2 --- [1 5] --- Value before activation: -0.994764663197043 -> Value after activation: 0\n",
            "p_3 --- [2 4] --- Value before activation: -0.16885074895096763 -> Value after activation: 0\n",
            "p_4 --- [2 5] --- Value before activation: -0.5256714225988273 -> Value after activation: 0\n",
            "p_5 --- [3 1] --- Value before activation: 1.370704512590827 -> Value after activation: 1\n",
            "p_6 --- [3 2] --- Value before activation: 1.0138838389429674 -> Value after activation: 1\n",
            "p_7 --- [4 1] --- Value before activation: 1.8397977531890426 -> Value after activation: 1\n",
            "p_8 --- [4 2] --- Value before activation: 1.482977079541183 -> Value after activation: 1\n"
          ],
          "name": "stdout"
        }
      ]
    },
    {
      "metadata": {
        "id": "a4ugmWWLSJ8N",
        "colab_type": "text"
      },
      "cell_type": "markdown",
      "source": [
        "## *The program is also created on TensorFlow in order for us to have better intuitions and also create a robust solution for problem 3*"
      ]
    },
    {
      "metadata": {
        "id": "W8nRYfqP8tdQ",
        "colab_type": "code",
        "colab": {
          "base_uri": "https://localhost:8080/",
          "height": 415
        },
        "outputId": "be543375-66ee-4cc5-f46d-c79c2c4087c8"
      },
      "cell_type": "code",
      "source": [
        "# The program is also created on TensorFlow in order for us to have better intuitions and also create a robust solution for problem 3\n",
        "\n",
        "# Libraries\n",
        "import tensorflow as tf\n",
        "import numpy as np\n",
        "import matplotlib.pyplot as plt\n",
        "\n",
        "# Number of features & iterations, feel free to change\n",
        "NUM_FEATURES = 2\n",
        "NUM_ITERATIONS = 2000 # Feel free to change\n",
        "\n",
        "# Initialize input p and targets for the variables\n",
        "p = np.array([[1,4], [1,5], [2,4], [2,5], [3,1], [3,2], [4,1], [4,2]], np.float32) # 8x2 features\n",
        "targets = np.array([0,0,0,0,1,1,1,1], np.float32).reshape([8,1]) # 8x1 target variables\n",
        "\n",
        "# Create 2 placeholders for input p and target for the TensorFlow variables\n",
        "P = tf.placeholder(tf.float32, shape=[8, NUM_FEATURES], name='P') # The NUM_FEATURES variable is added to ensure that the decision boundary of any solution will not intersect one of the original input vectors \n",
        "T = tf.placeholder(tf.float32, shape=[8, 1], name='T') # 8x1, same as targets\n",
        "\n",
        "# Create 2 TensorFlow vriables for the weight W and the bias B\n",
        "W = tf.Variable(tf.random_normal([NUM_FEATURES, 1]), tf.float32, name='W') # Initialize weights randomly\n",
        "B = tf.Variable(tf.zeros([1, 1]), tf.float32, name='B') # Initialize bias equal to zero\n",
        "\n",
        "# Calculate the activation // activate(w.T*p + b) \n",
        "predictions = tf.nn.sigmoid(tf.add(tf.matmul(P, W), B)) # tanh, ReLU, etc would work too\n",
        "    \n",
        "# Calculate the loss  \n",
        "loss = tf.nn.sigmoid_cross_entropy_with_logits(logits=predictions, labels=T) # 'T' must have the same type and shape as logits.\n",
        "\n",
        "# Calculate the training step\n",
        "training_step = tf.train.AdamOptimizer(learning_rate).minimize(loss) # We could use Gradient Descent but we wanted to test how superior Adam is\n",
        "\n",
        "# Initialize the variables (i.e. assign their default value)\n",
        "init = tf.global_variables_initializer()\n",
        "with tf.Session() as sess: \n",
        "  sess.run(init) # Run the session or else 'the computational graph'\n",
        "  for epoch in range(NUM_ITERATIONS): # For some iterations\n",
        "    sess.run(training_step, feed_dict={P: p, T: targets}) # Train the Perceptron\n",
        "    #weights = W.eval() # Hold the final value of it\n",
        "    #bias = B.eval()\n",
        "    weights = sess.run(W) \n",
        "    bias = sess.run(B)\n",
        "  \n",
        "\n",
        "# Prints\n",
        "print(\"Final Weight 1\", weights[0])\n",
        "print(\"Final Weight 2\", weights[1])\n",
        "print(\"Bias:\", bias)\n",
        "\n",
        "# Decision Boundary\n",
        "x1 = np.array([np.min(p[:, 1]), np.max(p[:, 1])])\n",
        "x0 = np.squeeze(((-1/weights[0])*(weights[1]*x1+bias)))\n",
        "\n",
        "# Scatterplot\n",
        "plt.scatter(p[:, 0], p[:, 1], c=[0,0,0,0,1,1,1,1], cmap='plasma')\n",
        "\n",
        "# Plot\n",
        "plt.plot(x0, x1, color='k', linewidth=2)\n",
        "\n",
        "# From the following plot, we can see that the accuracy is 100% \n",
        "# since the decision boundary is in a good positiong, classifying the 2 labels correctly.\n",
        "\n",
        "# Beware that some times it may need more epochs/generations for the perceptron to be correct."
      ],
      "execution_count": 37,
      "outputs": [
        {
          "output_type": "stream",
          "text": [
            "Final Weight 1 [2.9660308]\n",
            "Final Weight 2 [-3.2286415]\n",
            "Bias: [[1.9091275]]\n"
          ],
          "name": "stdout"
        },
        {
          "output_type": "execute_result",
          "data": {
            "text/plain": [
              "[<matplotlib.lines.Line2D at 0x7f2f1d0abac8>]"
            ]
          },
          "metadata": {
            "tags": []
          },
          "execution_count": 37
        },
        {
          "output_type": "display_data",
          "data": {
            "image/png": "[encoded data removed]",
            "text/plain": [
              "<matplotlib.figure.Figure at 0x7f2f1d8ae048>"
            ]
          },
          "metadata": {
            "tags": []
          }
        }
      ]
    }
  ]
}